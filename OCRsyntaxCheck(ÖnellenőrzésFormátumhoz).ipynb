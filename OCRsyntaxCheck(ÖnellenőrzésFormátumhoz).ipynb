{
 "cells": [
  {
   "cell_type": "code",
   "execution_count": 5,
   "metadata": {},
   "outputs": [],
   "source": [
    "import pandas as pd\n",
    "pd2=pd.read_csv('OCRpredictions.csv', delimiter=';')\n",
    "if len(pd2)!=7100:\n",
    "    print('Error! Number of predictions should be 7100!')"
   ]
  },
  {
   "cell_type": "code",
   "execution_count": 6,
   "metadata": {
    "collapsed": true
   },
   "outputs": [],
   "source": [
    "if pd2['class'][0]>62:\n",
    "    print('Error!')"
   ]
  },
  {
   "cell_type": "code",
   "execution_count": 7,
   "metadata": {},
   "outputs": [],
   "source": [
    "if pd2['class'].max()>62 or pd2['class'].min()<1:\n",
    "    print('Error! All class labels should be between 1 and 62! First class label is not zero!')"
   ]
  },
  {
   "cell_type": "code",
   "execution_count": 8,
   "metadata": {},
   "outputs": [],
   "source": [
    "if pd2['TestImage'][0]!='Test0001.png':\n",
    "    print('Error! First image should be the Test0001.png.')\n",
    "if pd2['TestImage'][7100-1]!='Test7100.png':\n",
    "    print('Error! Last image should be the Test7100.png.')"
   ]
  },
  {
   "cell_type": "code",
   "execution_count": null,
   "metadata": {
    "collapsed": true
   },
   "outputs": [],
   "source": []
  }
 ],
 "metadata": {
  "kernelspec": {
   "display_name": "Python 3",
   "language": "python",
   "name": "python3"
  },
  "language_info": {
   "codemirror_mode": {
    "name": "ipython",
    "version": 3
   },
   "file_extension": ".py",
   "mimetype": "text/x-python",
   "name": "python",
   "nbconvert_exporter": "python",
   "pygments_lexer": "ipython3",
   "version": "3.13.0"
  }
 },
 "nbformat": 4,
 "nbformat_minor": 2
}
